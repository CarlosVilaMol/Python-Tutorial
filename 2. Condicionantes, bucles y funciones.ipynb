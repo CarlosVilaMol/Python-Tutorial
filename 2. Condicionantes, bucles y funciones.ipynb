{
 "cells": [
  {
   "cell_type": "code",
   "execution_count": 8,
   "id": "7751fa17",
   "metadata": {},
   "outputs": [
    {
     "name": "stdout",
     "output_type": "stream",
     "text": [
      "Cenamos fuera, hoy paga lucia\n",
      "cenamos en casa\n"
     ]
    }
   ],
   "source": [
    "# Condicionantes if, elif, else\n",
    "\n",
    "\n",
    "if <condición>:\n",
    "    <codigo qe debe ejecurar>\n",
    "elif <condición>\n",
    "    <<codigo qe debe ejecurar>\n",
    "\n",
    "else:\n",
    "    <codigo que debe ejecuar>\n",
    "\n",
    "\n",
    "\n",
    "din_car=10\n",
    "din_luc=17\n",
    "\n",
    "if din_car< din_luc:\n",
    "    print (\"Cenamos fuera, hoy paga lucia\")\n",
    "\n",
    "if din_car>12:\n",
    "\n",
    "    print (\"Cenamos fuera, paga carlos\")\n",
    "\n",
    "else:\n",
    "    \n",
    "    print (\"cenamos en casa\")\n",
    "\n",
    "    \n",
    "    "
   ]
  },
  {
   "cell_type": "code",
   "execution_count": 2,
   "id": "992f957f",
   "metadata": {},
   "outputs": [
    {
     "name": "stdout",
     "output_type": "stream",
     "text": [
      "eres adulto\n"
     ]
    }
   ],
   "source": [
    "age=18\n",
    "\n",
    "if age>=18:\n",
    "    print (\"eres adulto\")\n",
    "\n",
    "elif age<=18:\n",
    "    \n",
    "    print (\"eres un adolescente\")"
   ]
  },
  {
   "cell_type": "code",
   "execution_count": 4,
   "id": "7bc69f86",
   "metadata": {},
   "outputs": [
    {
     "name": "stdout",
     "output_type": "stream",
     "text": [
      "eres un niño\n"
     ]
    }
   ],
   "source": [
    "age=10\n",
    "\n",
    "if age>=18:\n",
    "    print (\"eres adulto\")\n",
    "\n",
    "elif age>=15:\n",
    "    \n",
    "    print (\"eres un adolescente\")\n",
    "else:\n",
    "    print (\"eres un niño\")"
   ]
  },
  {
   "cell_type": "code",
   "execution_count": 2,
   "id": "a5a22a72",
   "metadata": {},
   "outputs": [
    {
     "name": "stdout",
     "output_type": "stream",
     "text": [
      "17\n"
     ]
    }
   ],
   "source": [
    "#Con los condicionantes try, except, podemos probar a introducir un comendo que no sabemos si va a \n",
    "#funcionar (sospechamos que puede dar error), por lo que le damos una segunda instrucción en el caso de que el primer caso falle\n",
    "\n",
    "x=7\n",
    "y=7\n",
    "try:\n",
    "    print (x+p)\n",
    "\n",
    "except:\n",
    "    print (x+10)\n",
    "    "
   ]
  },
  {
   "cell_type": "code",
   "execution_count": 7,
   "id": "affbbd73",
   "metadata": {},
   "outputs": [
    {
     "name": "stdout",
     "output_type": "stream",
     "text": [
      "escribe un numero:dos\n",
      "numero incorrecto\n",
      "tienes 4 oportunidades\n",
      "escribe un numero:tres\n",
      "numero incorrecto\n",
      "tienes 3 oportunidades\n",
      "escribe un numero:cinco\n",
      "numero incorrecto\n",
      "tienes 2 oportunidades\n",
      "escribe un numero:5\n",
      "5  es un numero correcto\n"
     ]
    }
   ],
   "source": [
    "\n",
    "\n",
    "oportunidades=5\n",
    "numero= input(\"escribe un numero:\")\n",
    "\n",
    "while oportunidades !=0:\n",
    "    try:\n",
    "        numero1=int(numero)\n",
    "        print (numero, \" es un numero correcto\")\n",
    "        break;#IMPORTANTE PONER EL BREAK PARA CERRAR EL BUCLE\n",
    "\n",
    "    except:\n",
    "        print (\"numero incorrecto\")\n",
    "        oportunidades=oportunidades-1\n",
    "        print (\"tienes\", oportunidades, \"oportunidades\")\n",
    "        numero= input(\"escribe un numero:\")\n",
    "\n",
    "else:\n",
    "    print (\"se acabaron los oportunidades\")\n",
    "    "
   ]
  },
  {
   "cell_type": "code",
   "execution_count": 32,
   "id": "66b208d0",
   "metadata": {},
   "outputs": [
    {
     "name": "stdout",
     "output_type": "stream",
     "text": [
      "Enter Hours:45\n",
      "enter rate:10.5\n",
      "498.75\n"
     ]
    }
   ],
   "source": [
    "hrs = input(\"Enter Hours:\")\n",
    "h = float(hrs)\n",
    "rate =input (\"enter rate:\")\n",
    "r = float(rate)\n",
    "if h<=40:\n",
    "    print (h*r)\n",
    "\n",
    "else:\n",
    "    print (420+(r*1.5)*(h-40))\n"
   ]
  },
  {
   "cell_type": "code",
   "execution_count": 35,
   "id": "337cc33c",
   "metadata": {},
   "outputs": [
    {
     "name": "stdout",
     "output_type": "stream",
     "text": [
      "Enter Score: 0.86\n",
      "B\n"
     ]
    }
   ],
   "source": [
    "score = input(\"Enter Score: \")\n",
    "s=float(score)\n",
    "\n",
    "if s<0.0 or s>1.0:\n",
    "    print (\"error\")\n",
    "\n",
    "elif s>= 0.9:\n",
    "    print (\"A\")\n",
    "    \n",
    "elif s>= 0.8:\n",
    "    print (\"B\")\n",
    "\n",
    "elif s>= 0.7:\n",
    "    print (\"C\")\n",
    "\n",
    "elif s>= 0.6:\n",
    "    print (\"D\")\n",
    "    \n",
    "elif s< 0.6:\n",
    "    print (\"F\")\n",
    "    \n"
   ]
  },
  {
   "cell_type": "code",
   "execution_count": null,
   "id": "cad73306",
   "metadata": {},
   "outputs": [],
   "source": []
  },
  {
   "cell_type": "code",
   "execution_count": null,
   "id": "a6cc0635",
   "metadata": {},
   "outputs": [],
   "source": [
    "#BUCLE for\n",
    "#Dentro de los bucles diferenciamos dos tipos, determinado (se repite un numero definido de veces) o indeterminado, \n",
    "#se repite x veces dependiendo de las ciercuntancias\n",
    "\n",
    "for <variable> in <list>: #mediante un rango o una lista marcamos el numero de veces que queremos que se repita el bucle\n",
    "    <codigo que debe ejecutar>\n",
    "    \n",
    "    \n",
    "for i in (\"primavera\", \"verano\", \"otoño\", \"invierno\"):#no tiene q ser numeros, puede ser palabras, y el bucle será el nº de ellas\n",
    "    print (i)# si le pedimos imprimir i, copiara la lista de arriba\n",
    "\n"
   ]
  },
  {
   "cell_type": "code",
   "execution_count": 10,
   "id": "30aa2d72",
   "metadata": {},
   "outputs": [
    {
     "data": {
      "text/plain": [
       "['españa', 'portugal', 'EEUU', 'china']"
      ]
     },
     "execution_count": 10,
     "metadata": {},
     "output_type": "execute_result"
    }
   ],
   "source": [
    "paises = [\"españa\", \"portugal\", \"EEUU\", \"china\"]\n",
    "paises"
   ]
  },
  {
   "cell_type": "code",
   "execution_count": 11,
   "id": "b1d03876",
   "metadata": {},
   "outputs": [
    {
     "name": "stdout",
     "output_type": "stream",
     "text": [
      "españa\n",
      "portugal\n",
      "EEUU\n",
      "china\n"
     ]
    }
   ],
   "source": [
    "for pais in paises:\n",
    "    print (pais)"
   ]
  },
  {
   "cell_type": "code",
   "execution_count": 2,
   "id": "335bb9a8",
   "metadata": {},
   "outputs": [
    {
     "name": "stdout",
     "output_type": "stream",
     "text": [
      "hola      hola      hola      "
     ]
    }
   ],
   "source": [
    "for i in range (3):\n",
    "    print (\"hola\", end=\"      \")# de esta forma se separa en función de los espacios que pongamos"
   ]
  },
  {
   "cell_type": "code",
   "execution_count": 7,
   "id": "481bd3af",
   "metadata": {},
   "outputs": [
    {
     "name": "stdout",
     "output_type": "stream",
     "text": [
      "el mail es correcto\n"
     ]
    }
   ],
   "source": [
    "mail=False\n",
    "\n",
    "for i in \"carlosvilamol@gmail\":\n",
    "    if i==\"@\":\n",
    "        mail=True\n",
    "        \n",
    "if mail==True:\n",
    "    print (\"el mail es correcto\")\n",
    "    \n",
    "else:\n",
    "        print (\"el mail es incorrecto\")"
   ]
  },
  {
   "cell_type": "code",
   "execution_count": 8,
   "id": "ae83ce4e",
   "metadata": {},
   "outputs": [
    {
     "name": "stdout",
     "output_type": "stream",
     "text": [
      "Escribe tu email:carlosgmail\n",
      "el mail es incorrecto\n"
     ]
    }
   ],
   "source": [
    "mail=False\n",
    "mi_email=input (\"Escribe tu email:\")\n",
    "\n",
    "for i in mi_email:\n",
    "    if i==\"@\":\n",
    "        mail=True\n",
    "        \n",
    "if mail==True:\n",
    "    print (\"el mail es correcto\")\n",
    "    \n",
    "else:\n",
    "        print (\"el mail es incorrecto\")\n"
   ]
  },
  {
   "cell_type": "code",
   "execution_count": 14,
   "id": "4ee72da2",
   "metadata": {},
   "outputs": [
    {
     "name": "stdout",
     "output_type": "stream",
     "text": [
      "0\n",
      "españa\n",
      "1\n",
      "portugal\n",
      "2\n",
      "EEUU\n",
      "3\n",
      "china\n"
     ]
    }
   ],
   "source": [
    "for i, pais in enumerate (paises):\n",
    "    print (i)\n",
    "    print (pais)"
   ]
  },
  {
   "cell_type": "code",
   "execution_count": 5,
   "id": "29bfd7c2",
   "metadata": {},
   "outputs": [
    {
     "name": "stdout",
     "output_type": "stream",
     "text": [
      "hola\n",
      "hola\n",
      "hola\n"
     ]
    }
   ],
   "source": [
    "#IMPORTANTE: Para los bucles, es muy interesante crear un contador, para poder parar el bucle\n",
    "\n",
    "contador=0\n",
    "\n",
    "for i in range(10):\n",
    "    contador=contador+1\n",
    "    if contador<4:\n",
    "        print (\"hola\")"
   ]
  },
  {
   "cell_type": "code",
   "execution_count": 6,
   "id": "23a94567",
   "metadata": {},
   "outputs": [
    {
     "name": "stdout",
     "output_type": "stream",
     "text": [
      "el valor de la variable es 0\n",
      "el valor de la variable es 1\n",
      "el valor de la variable es 2\n",
      "el valor de la variable es 3\n",
      "el valor de la variable es 4\n"
     ]
    }
   ],
   "source": [
    "#podemos usar una estructura especial despues del print f\"valor de la variable {i}\"\n",
    "\n",
    "for i in range (5):\n",
    "    print (f\"el valor de la variable es {i}\")"
   ]
  },
  {
   "cell_type": "code",
   "execution_count": 17,
   "id": "b737f8be",
   "metadata": {},
   "outputs": [
    {
     "data": {
      "text/plain": [
       "{'nombre': 'carlos', 'edad': 30, 'peso': 80, 'altura': 175}"
      ]
     },
     "execution_count": 17,
     "metadata": {},
     "output_type": "execute_result"
    }
   ],
   "source": [
    "mydic={\"nombre\":\"carlos\", \"edad\":30, \"peso\": 80, \"altura\":175}\n",
    "mydic"
   ]
  },
  {
   "cell_type": "code",
   "execution_count": 20,
   "id": "90d02eb0",
   "metadata": {},
   "outputs": [
    {
     "name": "stdout",
     "output_type": "stream",
     "text": [
      "nombre\n",
      "carlos\n",
      "edad\n",
      "30\n",
      "peso\n",
      "80\n",
      "altura\n",
      "175\n"
     ]
    }
   ],
   "source": [
    "for key,value in mydic.items():\n",
    "    print (key)\n",
    "    print (value)"
   ]
  },
  {
   "cell_type": "code",
   "execution_count": 4,
   "id": "53343dd6",
   "metadata": {},
   "outputs": [
    {
     "name": "stdout",
     "output_type": "stream",
     "text": [
      "españa\n",
      "italia\n",
      "francia\n",
      "marruecos\n"
     ]
    }
   ],
   "source": [
    "paises=\"españa\", \"italia\", \"francia\", \"marruecos\"\n",
    "\n",
    "for pais in paises:\n",
    "    print (pais)"
   ]
  },
  {
   "cell_type": "code",
   "execution_count": 10,
   "id": "663bfb37",
   "metadata": {},
   "outputs": [
    {
     "name": "stdout",
     "output_type": "stream",
     "text": [
      "c\n",
      "a\n",
      "l\n",
      "o\n",
      "s\n"
     ]
    }
   ],
   "source": [
    "#existen algunos comandos que nos ayudan dento de los bucles (continue, pass else)\n",
    "\n",
    "for i in (\"carlos\"):\n",
    "    \n",
    "    if i==\"r\":\n",
    "        continue #al llegar a r, se salta esta vuelta al ciclo y continua con la l\n",
    "    \n",
    "    print (i)"
   ]
  },
  {
   "cell_type": "code",
   "execution_count": 8,
   "id": "322e7767",
   "metadata": {},
   "outputs": [
    {
     "name": "stdout",
     "output_type": "stream",
     "text": [
      "el numero mas largo es:  97\n"
     ]
    }
   ],
   "source": [
    "numero_mas_largo=-1\n",
    "\n",
    "for mas_largo in [4,56,25,78,2,13,16,97]:\n",
    "    if mas_largo>numero_mas_largo:\n",
    "        numero_mas_largo=mas_largo\n",
    "print(\"el numero mas largo es: \",numero_mas_largo)\n",
    "   "
   ]
  },
  {
   "cell_type": "code",
   "execution_count": 10,
   "id": "2690be3d",
   "metadata": {},
   "outputs": [
    {
     "data": {
      "text/plain": [
       "948"
      ]
     },
     "execution_count": 10,
     "metadata": {},
     "output_type": "execute_result"
    }
   ],
   "source": [
    "mas_largo=76,85,44,85,35,46,96,99,948\n",
    "\n",
    "max (mas_largo)"
   ]
  },
  {
   "cell_type": "code",
   "execution_count": 16,
   "id": "7e37f490",
   "metadata": {},
   "outputs": [
    {
     "name": "stdout",
     "output_type": "stream",
     "text": [
      "17\n"
     ]
    }
   ],
   "source": [
    "nombre =\"carlos Vila Molares\"\n",
    "contador=0\n",
    "\n",
    "for i in nombre:\n",
    "    if i==\" \":\n",
    "        continue\n",
    "    contador+=1#esto es lo mismo que decirle q sume 1 en cada vuelta\n",
    "    \n",
    "    \n",
    "print (contador)"
   ]
  },
  {
   "cell_type": "code",
   "execution_count": 3,
   "id": "eee00f1d",
   "metadata": {},
   "outputs": [
    {
     "name": "stdout",
     "output_type": "stream",
     "text": [
      "antes 0 0\n",
      "1 23 23\n",
      "2 66 43\n",
      "3 122 56\n",
      "4 185 63\n",
      "5 272 87\n",
      "6 308 36\n",
      "7 312 4\n",
      "8 379 67\n",
      "9 466 87\n",
      "despues 9 466\n"
     ]
    }
   ],
   "source": [
    "contador=0\n",
    "suma=0\n",
    "print (\"antes\", contador, suma)\n",
    "for i in (23,43,56,63,87,36,4,67,87):\n",
    "    contador=contador+1\n",
    "    suma=suma+i\n",
    "    print (contador,suma,i)\n",
    "\n",
    "print (\"despues\", contador,suma)"
   ]
  },
  {
   "cell_type": "code",
   "execution_count": 8,
   "id": "6fda01c9",
   "metadata": {},
   "outputs": [
    {
     "name": "stdout",
     "output_type": "stream",
     "text": [
      "False\n"
     ]
    }
   ],
   "source": [
    "#podemos buscar un numero con u objeto dentro de una lista, y saber si esta presente\n",
    "\n",
    "encontrado=False\n",
    "\n",
    "for i in (23,45,65,3,4,5,65,74,24,26,56):\n",
    "    if i==46:\n",
    "        encontrado=True\n",
    "  \n",
    "print (encontrado)"
   ]
  },
  {
   "cell_type": "code",
   "execution_count": 11,
   "id": "0adbaa6f",
   "metadata": {},
   "outputs": [
    {
     "name": "stdout",
     "output_type": "stream",
     "text": [
      "el numero mas corto es:  1\n"
     ]
    }
   ],
   "source": [
    "numero_mas_corto=None #aqui podriamos poner una variable muy elevada para asegurarnos que va a haber uno menor, \n",
    "#pero es mejor usar la variable None, que indica la ausencia de variable\n",
    "\n",
    "for mas_corto in [4,56,25,78,2,13,1,16,97]:\n",
    "    if numero_mas_corto==None:\n",
    "        numero_mas_corto=mas_corto\n",
    "    elif mas_corto<numero_mas_corto:\n",
    "        numero_mas_corto=mas_corto\n",
    "        \n",
    "print(\"el numero mas corto es: \",numero_mas_corto)"
   ]
  },
  {
   "cell_type": "code",
   "execution_count": 2,
   "id": "94bc8f3a",
   "metadata": {},
   "outputs": [
    {
     "name": "stdout",
     "output_type": "stream",
     "text": [
      "Enter a number: 10\n",
      "Enter a number: 2\n",
      "Enter a number: bob\n",
      "Invalid input\n",
      "Enter a number: 10\n",
      "Enter a number: 4\n",
      "Enter a number: done\n",
      "Maximum is 10\n",
      "Minim is 2\n"
     ]
    }
   ],
   "source": [
    "largest = None\n",
    "smallest = None\n",
    "while True:\n",
    "    num = input(\"Enter a number: \")\n",
    "    \n",
    "    if num == \"done\":\n",
    "        break\n",
    "    try:\n",
    "        num=int(num)\n",
    "    \n",
    "    except:\n",
    "        print (\"Invalid input\")\n",
    "        continue\n",
    "        \n",
    "    if largest==None and smallest==None:\n",
    "        largest=num\n",
    "        smallest=num\n",
    "        \n",
    "    if num>largest:\n",
    "        largest=num\n",
    "        \n",
    "    if num<smallest:\n",
    "        smallest=num\n",
    "    \n",
    "    \n",
    "   \n",
    "\n",
    "print(\"Maximum is\", largest)\n",
    "print(\"Minim is\", smallest)"
   ]
  },
  {
   "cell_type": "code",
   "execution_count": 7,
   "id": "c77a254e",
   "metadata": {},
   "outputs": [
    {
     "name": "stdout",
     "output_type": "stream",
     "text": [
      "vuelta nº: 1\n",
      "vuelta nº: 2\n",
      "vuelta nº: 3\n",
      "vuelta nº: 4\n",
      "se acabo el bucle\n"
     ]
    }
   ],
   "source": [
    "#Otro bucle que podemos untilizar es while, que lo que hara será repetir el bucle indefinidamente \n",
    "#mientras se cumpla una condición. Cuidado con crear bucles infinitos\n",
    "\n",
    "i=1\n",
    "while i<5:\n",
    "    print (\"vuelta nº:\", i)\n",
    "    i=i+1  #DEBEMOS PONERLE EL CONTADOR PARA QUE i VAYA SUBIENDO Y NO CREEMOS UN BUCLE INFINITO\n",
    "\n",
    "print (\"se acabo el bucle\")"
   ]
  },
  {
   "cell_type": "code",
   "execution_count": 1,
   "id": "f7f5dbe2",
   "metadata": {},
   "outputs": [
    {
     "name": "stdout",
     "output_type": "stream",
     "text": [
      "introduce tu edad: 56\n",
      "edad incorrecta\n",
      "introduce tu edad: 29\n",
      "edad incorrecta\n",
      "introduce tu edad: 77\n",
      "edad incorrecta\n",
      "introduce tu edad: 30\n",
      "correcto, tu edad es: 30\n"
     ]
    }
   ],
   "source": [
    "edad= int(input (\"introduce tu edad: \"))#IMPORTANTE DEBEMOS PASAR EL NUMERO A ENTERO, YA QUE POR DEFECTO ENTIENDE QUE ES UNA CADENA Y DE ESTA FORMA NUNCA SERÁ IGUAL AL VALOR DEL WHILE, \n",
    "#CREANDO UN BUCLE INFINITO\n",
    "\n",
    "while edad!=30:\n",
    "    print (\"edad incorrecta\")\n",
    "    edad= int(input (\"introduce tu edad: \"))\n",
    "    \n",
    "print (\"correcto, tu edad es:\", edad)\n",
    "    \n",
    "\n"
   ]
  },
  {
   "cell_type": "code",
   "execution_count": 8,
   "id": "6114f18c",
   "metadata": {},
   "outputs": [
    {
     "name": "stdout",
     "output_type": "stream",
     "text": [
      "introduce tu edad: 36\n",
      "vuelve a probar\n",
      "introduce tu edad: 30\n",
      "correcto, tu edad es: 30\n"
     ]
    }
   ],
   "source": [
    "#Con break; al final de bucle obligamos a salir de el\n",
    "edad= int(input (\"introduce tu edad: \"))\n",
    "intentos=0\n",
    "\n",
    "while edad !=30 and intentos!=3:\n",
    "    print (\"vuelve a probar\")\n",
    "    edad= int(input (\"introduce tu edad: \"))\n",
    "    intentos=intentos+1\n",
    "   \n",
    "    \n",
    "while edad!=30:\n",
    "    \n",
    "    print (\"ultimo intento\")\n",
    "    edad= int(input (\"introduce tu edad: \"))\n",
    "    break;#Cerramos el bucle\n",
    "    \n",
    "if edad==30:       \n",
    "    print (\"correcto, tu edad es:\", edad)\n",
    "    \n",
    "else:\n",
    "    print (\"no gilipollas, tu puta edad son 30 años\")\n"
   ]
  },
  {
   "cell_type": "code",
   "execution_count": 2,
   "id": "550788f7",
   "metadata": {},
   "outputs": [
    {
     "name": "stdout",
     "output_type": "stream",
     "text": [
      "escribe un nombre:lucia\n",
      "nombre incorrecto\n",
      "escribe un nombre:dani\n",
      "nombre incorrecto\n",
      "escribe un nombre:jaime\n",
      "nombre incorrecto\n",
      "escribe un nombre:carlos\n",
      "Bien echo!! el nombre corracto es: carlos\n"
     ]
    }
   ],
   "source": [
    "while True:\n",
    "    nombre=input (\"escribe un nombre:\")\n",
    "    if nombre!=\"carlos\":\n",
    "        print (\"nombre incorrecto\")\n",
    "    elif nombre==\"carlos\":\n",
    "        break\n",
    "    \n",
    "print (\"Bien echo!! el nombre corracto es:\", nombre)"
   ]
  },
  {
   "cell_type": "code",
   "execution_count": 3,
   "id": "d7d4421c",
   "metadata": {},
   "outputs": [
    {
     "name": "stdout",
     "output_type": "stream",
     "text": [
      "escribe una vocal:a\n",
      "mal\n",
      "escribe una vocal:u\n",
      "mal\n",
      "escribe una vocal:i\n",
      "mal\n",
      "escribe una vocal:e\n",
      "Muy bien, la letra e es correcta\n"
     ]
    }
   ],
   "source": [
    "while True:\n",
    "    letra=input (\"escribe una vocal:\")\n",
    "    if letra==\"a\" or letra==\"i\" or letra==\"u\":\n",
    "        print (\"mal\")\n",
    "        continue# Te devuelve al principio del bucle\n",
    "    if letra==\"e\" or letra==\"o\":\n",
    "        break\n",
    "\n",
    "print (\"Muy bien, la letra\", letra, \"es correcta\")"
   ]
  },
  {
   "cell_type": "code",
   "execution_count": 17,
   "id": "9081aa90",
   "metadata": {},
   "outputs": [],
   "source": [
    "#FUNCIONES\n",
    "#existen muchas funciones predefinidas: print, type, max, min.....pero además nosotros podemos diseñar \n",
    "#nuestras propias funciones con def\n",
    "\n",
    "\n",
    "#sirve especialmente para reutilizar codigo\n",
    "#puede tener 2 estructuras\n",
    "    #def nombre_función() \n",
    "    #def nombre_funcion (parametros)\n",
    "\n",
    "#puede acabar con return (si queremos que nos devuelva valores) o no si no es necesario\n",
    "\n",
    "def mensaje ():\n",
    "    print (\"Estamos creando\")\n",
    "    print (\"una función\")\n",
    "    print (\"de texto\")"
   ]
  },
  {
   "cell_type": "code",
   "execution_count": 18,
   "id": "441a7181",
   "metadata": {},
   "outputs": [
    {
     "name": "stdout",
     "output_type": "stream",
     "text": [
      "Estamos creando\n",
      "una función\n",
      "de texto\n"
     ]
    }
   ],
   "source": [
    "mensaje()"
   ]
  },
  {
   "cell_type": "code",
   "execution_count": 19,
   "id": "69f9d48d",
   "metadata": {},
   "outputs": [],
   "source": [
    "def suma ():\n",
    "    a=4\n",
    "    b=8\n",
    "    print (a+b)"
   ]
  },
  {
   "cell_type": "code",
   "execution_count": 20,
   "id": "416ea002",
   "metadata": {},
   "outputs": [
    {
     "name": "stdout",
     "output_type": "stream",
     "text": [
      "12\n"
     ]
    }
   ],
   "source": [
    "suma()"
   ]
  },
  {
   "cell_type": "code",
   "execution_count": 21,
   "id": "365efe16",
   "metadata": {},
   "outputs": [],
   "source": [
    "#en las funciones podemos usar argumentos (todos los que quieras) que nos ayudan a modificar loas instrucciones que hay dentro de la función\n",
    "\n",
    "def suma (a,b,c):\n",
    "    print (a+b*c)\n",
    "\n"
   ]
  },
  {
   "cell_type": "code",
   "execution_count": 22,
   "id": "435d4156",
   "metadata": {},
   "outputs": [
    {
     "name": "stdout",
     "output_type": "stream",
     "text": [
      "910\n"
     ]
    }
   ],
   "source": [
    "suma (7,21,43)"
   ]
  },
  {
   "cell_type": "code",
   "execution_count": 23,
   "id": "17633eb8",
   "metadata": {},
   "outputs": [
    {
     "name": "stdout",
     "output_type": "stream",
     "text": [
      "39\n"
     ]
    }
   ],
   "source": [
    "suma (7,4,8)#podemos usar cada vez numeros distintos, pero siempre q sean el mismo nº de atributos"
   ]
  },
  {
   "cell_type": "code",
   "execution_count": 24,
   "id": "21e7c59e",
   "metadata": {},
   "outputs": [],
   "source": [
    "def frase (a,b,c,d):\n",
    "    print (\"me llamo\", a, \"vivo en\", b, \"mi dni es\", c, \"y me gusta el\", d)"
   ]
  },
  {
   "cell_type": "code",
   "execution_count": 25,
   "id": "f2752400",
   "metadata": {},
   "outputs": [
    {
     "name": "stdout",
     "output_type": "stream",
     "text": [
      "me llamo carlos vivo en barbera mi dni es 53197355B y me gusta el tenis\n"
     ]
    }
   ],
   "source": [
    "frase (\"carlos\", \"barbera\", \"53197355B\", \"tenis\")"
   ]
  },
  {
   "cell_type": "code",
   "execution_count": 28,
   "id": "c9e7353c",
   "metadata": {},
   "outputs": [],
   "source": [
    "def función (n1,n2,n3):\n",
    "    resultado=n1-n2+n3\n",
    "    return resultado"
   ]
  },
  {
   "cell_type": "code",
   "execution_count": 29,
   "id": "ffd26d25",
   "metadata": {},
   "outputs": [],
   "source": [
    "resultado1=función (7,8,4)\n",
    "resultado2=función (66,34,5)\n",
    "resultado3=función (43,6,45)"
   ]
  },
  {
   "cell_type": "code",
   "execution_count": 30,
   "id": "85c2ccf2",
   "metadata": {},
   "outputs": [
    {
     "name": "stdout",
     "output_type": "stream",
     "text": [
      "37\n"
     ]
    }
   ],
   "source": [
    "print (resultado2)"
   ]
  },
  {
   "cell_type": "code",
   "execution_count": 31,
   "id": "e9ec4fde",
   "metadata": {},
   "outputs": [
    {
     "name": "stdout",
     "output_type": "stream",
     "text": [
      "3\n"
     ]
    }
   ],
   "source": [
    "print (resultado1)"
   ]
  },
  {
   "cell_type": "code",
   "execution_count": 34,
   "id": "b77243b2",
   "metadata": {},
   "outputs": [],
   "source": [
    "def función (a,b,c=False): #con =False, le damos la opcion a poner o no un tercer elemento en la ecuación\n",
    "    print (a+b+c)"
   ]
  },
  {
   "cell_type": "code",
   "execution_count": 35,
   "id": "6338077a",
   "metadata": {},
   "outputs": [
    {
     "name": "stdout",
     "output_type": "stream",
     "text": [
      "9\n"
     ]
    }
   ],
   "source": [
    "función(3,6)"
   ]
  },
  {
   "cell_type": "code",
   "execution_count": 38,
   "id": "eb106987",
   "metadata": {},
   "outputs": [
    {
     "name": "stdout",
     "output_type": "stream",
     "text": [
      "22\n"
     ]
    }
   ],
   "source": [
    "función (6,9,7)"
   ]
  },
  {
   "cell_type": "code",
   "execution_count": null,
   "id": "7a552997",
   "metadata": {},
   "outputs": [],
   "source": []
  },
  {
   "cell_type": "code",
   "execution_count": 35,
   "id": "46d1b875",
   "metadata": {},
   "outputs": [
    {
     "data": {
      "text/plain": [
       "10"
      ]
     },
     "execution_count": 35,
     "metadata": {},
     "output_type": "execute_result"
    }
   ],
   "source": [
    "fun1 (4,6)"
   ]
  },
  {
   "cell_type": "code",
   "execution_count": 42,
   "id": "5f1fdef7",
   "metadata": {},
   "outputs": [],
   "source": [
    "def función (leng):\n",
    "    if leng==\"esp\":\n",
    "        print (\"hola\")\n",
    "    elif leng== \"fra\":\n",
    "        print (\"bonjour\")\n",
    "    elif leng==\"eng\":\n",
    "        print (\"Hello\")"
   ]
  },
  {
   "cell_type": "code",
   "execution_count": 43,
   "id": "9d999ad7",
   "metadata": {},
   "outputs": [
    {
     "name": "stdout",
     "output_type": "stream",
     "text": [
      "hola\n"
     ]
    }
   ],
   "source": [
    "función (\"esp\")"
   ]
  },
  {
   "cell_type": "code",
   "execution_count": 44,
   "id": "cae87afa",
   "metadata": {},
   "outputs": [
    {
     "name": "stdout",
     "output_type": "stream",
     "text": [
      "Hello\n"
     ]
    }
   ],
   "source": [
    "función(\"eng\")"
   ]
  },
  {
   "cell_type": "code",
   "execution_count": 49,
   "id": "e1b4cc3f",
   "metadata": {},
   "outputs": [
    {
     "name": "stdout",
     "output_type": "stream",
     "text": [
      "Enter Hours:45\n",
      "Enter rate:10.5\n",
      "Pay 498.75\n"
     ]
    }
   ],
   "source": [
    "def computepay(h, r):\n",
    "    if h<=40:\n",
    "        return h*r\n",
    "    elif h>40:\n",
    "        return (40*r)+(h-40)*(r*1.5)\n",
    "\n",
    "hrs = input(\"Enter Hours:\")\n",
    "h=float (hrs)\n",
    "rate = input(\"Enter rate:\")\n",
    "r=float (rate)\n",
    "p = computepay(h,r)\n",
    "print(\"Pay\", p)"
   ]
  },
  {
   "cell_type": "code",
   "execution_count": null,
   "id": "d42197a7",
   "metadata": {},
   "outputs": [],
   "source": []
  },
  {
   "cell_type": "code",
   "execution_count": 45,
   "id": "61ea7558",
   "metadata": {},
   "outputs": [
    {
     "name": "stdout",
     "output_type": "stream",
     "text": [
      "hola lucia\n",
      "bonjour pol\n",
      "Hello carlos\n"
     ]
    }
   ],
   "source": [
    "#Acabar con ruturn finaliza la función, y hace que te devuelve un resultado\n",
    "def función (leng):\n",
    "    if leng==\"esp\":\n",
    "        return \"hola\"\n",
    "    elif leng== \"fra\":\n",
    "        return \"bonjour\"\n",
    "    elif leng==\"eng\":\n",
    "        return \"Hello\"\n",
    "    \n",
    "print (función (\"esp\"), \"lucia\")\n",
    "print (función (\"fra\"), \"pol\")\n",
    "print (función (\"eng\"), \"carlos\")"
   ]
  },
  {
   "cell_type": "code",
   "execution_count": 1,
   "id": "cfd6db40",
   "metadata": {},
   "outputs": [],
   "source": [
    "fichero = open (\"prueba.txt\", \"w\")\n",
    "fichero.write(\"esto es una prueba\\n\")\n",
    "fichero.close()"
   ]
  }
 ],
 "metadata": {
  "kernelspec": {
   "display_name": "Python 3 (ipykernel)",
   "language": "python",
   "name": "python3"
  },
  "language_info": {
   "codemirror_mode": {
    "name": "ipython",
    "version": 3
   },
   "file_extension": ".py",
   "mimetype": "text/x-python",
   "name": "python",
   "nbconvert_exporter": "python",
   "pygments_lexer": "ipython3",
   "version": "3.9.12"
  }
 },
 "nbformat": 4,
 "nbformat_minor": 5
}
