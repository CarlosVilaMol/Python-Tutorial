{
 "cells": [
  {
   "cell_type": "markdown",
   "id": "451e3056",
   "metadata": {},
   "source": [
    "ESTRUCTURA DE DATOS (Secuencias, diccionarios, conjuntos)"
   ]
  },
  {
   "cell_type": "markdown",
   "id": "0720f0c2",
   "metadata": {},
   "source": [
    "Tipos de datos"
   ]
  },
  {
   "cell_type": "code",
   "execution_count": 1,
   "id": "cc3480e9",
   "metadata": {},
   "outputs": [
    {
     "name": "stdout",
     "output_type": "stream",
     "text": [
      "<class 'str'>\n",
      "<class 'int'>\n",
      "<class 'float'>\n",
      "<class 'bool'>\n"
     ]
    }
   ],
   "source": [
    "texto=\"Esto es un texto\" # entre comillas dobles o triples\n",
    "entero= 10\n",
    "decimal=10.5\n",
    "booleano= True #verdadero o falso\n",
    "\n",
    "print (type(texto))\n",
    "print (type(entero))\n",
    "print (type(decimal))\n",
    "print (type(booleano))"
   ]
  },
  {
   "cell_type": "code",
   "execution_count": 1,
   "id": "bd3bec98",
   "metadata": {},
   "outputs": [
    {
     "data": {
      "text/plain": [
       "'Carlos'"
      ]
     },
     "execution_count": 1,
     "metadata": {},
     "output_type": "execute_result"
    }
   ],
   "source": [
    "nombre=\"carlos\"\n",
    "nombre.capitalize()"
   ]
  },
  {
   "cell_type": "code",
   "execution_count": 17,
   "id": "120a7c06",
   "metadata": {},
   "outputs": [
    {
     "data": {
      "text/plain": [
       "True"
      ]
     },
     "execution_count": 17,
     "metadata": {},
     "output_type": "execute_result"
    }
   ],
   "source": [
    "\"a\" in nombre"
   ]
  },
  {
   "cell_type": "code",
   "execution_count": 2,
   "id": "f6939150",
   "metadata": {},
   "outputs": [
    {
     "data": {
      "text/plain": [
       "3"
      ]
     },
     "execution_count": 2,
     "metadata": {},
     "output_type": "execute_result"
    }
   ],
   "source": [
    "nombre.find(\"l\")"
   ]
  },
  {
   "cell_type": "code",
   "execution_count": 22,
   "id": "78601968",
   "metadata": {},
   "outputs": [
    {
     "name": "stdout",
     "output_type": "stream",
     "text": [
      "13\n",
      "23\n"
     ]
    },
    {
     "data": {
      "text/plain": [
       "'gmail.com'"
      ]
     },
     "execution_count": 22,
     "metadata": {},
     "output_type": "execute_result"
    }
   ],
   "source": [
    "mail=\"carlosvilamol@gmail.com Barcelona\"\n",
    "\n",
    "posicion1=mail.find(\"@\")\n",
    "print (posicion1)\n",
    "\n",
    "posicion2=mail.find(\" \")\n",
    "print (posicion2)\n",
    "\n",
    "cuenta=mail[posicion1+1:posicion2]\n",
    "cuenta"
   ]
  },
  {
   "cell_type": "code",
   "execution_count": 4,
   "id": "e3a213d7",
   "metadata": {},
   "outputs": [
    {
     "data": {
      "text/plain": [
       "-1"
      ]
     },
     "execution_count": 4,
     "metadata": {},
     "output_type": "execute_result"
    }
   ],
   "source": [
    "nombre.find(\"j\")#Si no lo encuentra te devuelve -1"
   ]
  },
  {
   "cell_type": "code",
   "execution_count": 5,
   "id": "ab11f99a",
   "metadata": {},
   "outputs": [],
   "source": [
    "x=\"hola Carlos\"\n",
    "\n"
   ]
  },
  {
   "cell_type": "code",
   "execution_count": 9,
   "id": "87fb1fee",
   "metadata": {},
   "outputs": [],
   "source": [
    "y=x.replace(\"Carlos\",\"lucia\")"
   ]
  },
  {
   "cell_type": "code",
   "execution_count": 10,
   "id": "b6dbc265",
   "metadata": {},
   "outputs": [
    {
     "name": "stdout",
     "output_type": "stream",
     "text": [
      "hola lucia\n"
     ]
    }
   ],
   "source": [
    "print (y)"
   ]
  },
  {
   "cell_type": "code",
   "execution_count": 3,
   "id": "4cd6a1db",
   "metadata": {},
   "outputs": [
    {
     "data": {
      "text/plain": [
       "'CARLOS'"
      ]
     },
     "execution_count": 3,
     "metadata": {},
     "output_type": "execute_result"
    }
   ],
   "source": [
    "nombre.upper()"
   ]
  },
  {
   "cell_type": "code",
   "execution_count": 11,
   "id": "b13571b2",
   "metadata": {},
   "outputs": [],
   "source": [
    "nom=\"banana\""
   ]
  },
  {
   "cell_type": "code",
   "execution_count": 12,
   "id": "a072ff47",
   "metadata": {},
   "outputs": [],
   "source": [
    "nom1=nom.replace(\"a\",\"o\") "
   ]
  },
  {
   "cell_type": "code",
   "execution_count": 13,
   "id": "0a41cd2e",
   "metadata": {},
   "outputs": [
    {
     "name": "stdout",
     "output_type": "stream",
     "text": [
      "bonono\n"
     ]
    }
   ],
   "source": [
    "print (nom1)"
   ]
  },
  {
   "cell_type": "code",
   "execution_count": 14,
   "id": "b07dae6a",
   "metadata": {},
   "outputs": [],
   "source": [
    "frase=\"      Hola lucia     \""
   ]
  },
  {
   "cell_type": "code",
   "execution_count": 15,
   "id": "a4d1662e",
   "metadata": {},
   "outputs": [
    {
     "data": {
      "text/plain": [
       "'      Hola lucia     '"
      ]
     },
     "execution_count": 15,
     "metadata": {},
     "output_type": "execute_result"
    }
   ],
   "source": [
    "frase"
   ]
  },
  {
   "cell_type": "code",
   "execution_count": 16,
   "id": "5db3b2b1",
   "metadata": {},
   "outputs": [
    {
     "data": {
      "text/plain": [
       "'Hola lucia'"
      ]
     },
     "execution_count": 16,
     "metadata": {},
     "output_type": "execute_result"
    }
   ],
   "source": [
    "frase.strip()#le quita los espacios de izquierda y derecha.....  .lstrip() solo izquierda;  .rstrip() solo derecha"
   ]
  },
  {
   "cell_type": "code",
   "execution_count": 1,
   "id": "184af1f4",
   "metadata": {},
   "outputs": [],
   "source": [
    "nombre=(\"Carlos\\nVila\")#con el simbolo \\n separa las cadenas de texto en dos lineas"
   ]
  },
  {
   "cell_type": "code",
   "execution_count": 2,
   "id": "d7ee9fa4",
   "metadata": {},
   "outputs": [
    {
     "name": "stdout",
     "output_type": "stream",
     "text": [
      "Carlos\n",
      "Vila\n"
     ]
    }
   ],
   "source": [
    "print (nombre)"
   ]
  },
  {
   "cell_type": "code",
   "execution_count": 35,
   "id": "241a0ada",
   "metadata": {},
   "outputs": [
    {
     "name": "stdout",
     "output_type": "stream",
     "text": [
      "0.8475\n"
     ]
    }
   ],
   "source": [
    "text = \"X-DSPAM-Confidence:    0.8475\"\n",
    "primera=text.find(\":\")\n",
    "ultima=text.find(\"5\")\n",
    "\n",
    "ejercicio=text[primera+1:ultima+1]\n",
    "\n",
    "ej_final=ejercicio.lstrip()\n",
    "\n",
    "ej_final=float (ej_final)\n",
    "\n",
    "\n",
    "print (ej_final)\n",
    "\n",
    "\n"
   ]
  },
  {
   "cell_type": "code",
   "execution_count": 7,
   "id": "a761c1be",
   "metadata": {},
   "outputs": [
    {
     "name": "stdout",
     "output_type": "stream",
     "text": [
      "-->Mi nombre es carlos\n",
      "Has escrito:Mi nombre es carlos\n"
     ]
    }
   ],
   "source": [
    "entrada =input (\"-->\")\n",
    "print (\"Has escrito:\"+entrada)"
   ]
  },
  {
   "cell_type": "code",
   "execution_count": 2,
   "id": "b6ced1c7",
   "metadata": {},
   "outputs": [
    {
     "name": "stdout",
     "output_type": "stream",
     "text": [
      "10\n",
      "8\n",
      "16\n",
      "1\n",
      "2\n"
     ]
    }
   ],
   "source": [
    "#marcadores aritmeticos\n",
    "\n",
    "a=3+7\n",
    "b=2*4\n",
    "c=2**4\n",
    "d=c//a\n",
    "e=a%b\n",
    "\n",
    "print (a)\n",
    "print (b)\n",
    "print (c)\n",
    "print (d)\n",
    "print (e)"
   ]
  },
  {
   "cell_type": "code",
   "execution_count": 3,
   "id": "335bbcdd",
   "metadata": {},
   "outputs": [
    {
     "name": "stdout",
     "output_type": "stream",
     "text": [
      "False\n",
      "True\n",
      "False\n",
      "True\n"
     ]
    }
   ],
   "source": [
    "#marcadores comparativos\n",
    "\n",
    "b=5\n",
    "print (a==b)\n",
    "print (a!=b) #  != \"distinto\"\n",
    "print (a<b)\n",
    "print (a>b)"
   ]
  },
  {
   "cell_type": "code",
   "execution_count": 4,
   "id": "0d85a00c",
   "metadata": {},
   "outputs": [
    {
     "data": {
      "text/plain": [
       "False"
      ]
     },
     "execution_count": 4,
     "metadata": {},
     "output_type": "execute_result"
    }
   ],
   "source": [
    "# marcadores logicos\n",
    "\n",
    "a= 6\n",
    "a>4 and a<5"
   ]
  },
  {
   "cell_type": "markdown",
   "id": "89611560",
   "metadata": {},
   "source": [
    "SECUENCIAS"
   ]
  },
  {
   "cell_type": "code",
   "execution_count": 6,
   "id": "232141fc",
   "metadata": {},
   "outputs": [
    {
     "name": "stdout",
     "output_type": "stream",
     "text": [
      "<class 'tuple'>\n",
      "<class 'list'>\n",
      "<class 'str'>\n"
     ]
    }
   ],
   "source": [
    "#Las secuencias de dividen en: tuple (inmutable); list [mutable]; str (\"inmutable y letras\")\n",
    "\n",
    "tuple_1=(1,2,3,4,5) #inmutabe\n",
    "list_1= [1,2,3,4,5] #   mutable para poner corchete cont+alt+U\n",
    "str_1= \"esto es una cadena\"\n",
    "\n",
    "print (type (tuple_1))\n",
    "print (type (list_1))\n",
    "print (type (str_1))"
   ]
  },
  {
   "cell_type": "code",
   "execution_count": 6,
   "id": "11fb682f",
   "metadata": {},
   "outputs": [
    {
     "data": {
      "text/plain": [
       "4"
      ]
     },
     "execution_count": 6,
     "metadata": {},
     "output_type": "execute_result"
    }
   ],
   "source": [
    "tuple_1[3] # entre []; le estoy pidiendo que me diga el valor que esta en el puesto 3 de la secuencia, \n",
    "#empieza a contar desde 0"
   ]
  },
  {
   "cell_type": "code",
   "execution_count": 8,
   "id": "36a03f15",
   "metadata": {},
   "outputs": [
    {
     "data": {
      "text/plain": [
       "'u'"
      ]
     },
     "execution_count": 8,
     "metadata": {},
     "output_type": "execute_result"
    }
   ],
   "source": [
    "str_1[8]"
   ]
  },
  {
   "cell_type": "code",
   "execution_count": 11,
   "id": "c433e010",
   "metadata": {},
   "outputs": [
    {
     "data": {
      "text/plain": [
       "8"
      ]
     },
     "execution_count": 11,
     "metadata": {},
     "output_type": "execute_result"
    }
   ],
   "source": [
    "list_1[3]=8\n",
    "list_1[3]"
   ]
  },
  {
   "cell_type": "code",
   "execution_count": null,
   "id": "336c1b93",
   "metadata": {},
   "outputs": [],
   "source": []
  },
  {
   "cell_type": "code",
   "execution_count": null,
   "id": "04ecd402",
   "metadata": {},
   "outputs": [],
   "source": []
  },
  {
   "cell_type": "code",
   "execution_count": 39,
   "id": "95aaa7e6",
   "metadata": {},
   "outputs": [
    {
     "name": "stdout",
     "output_type": "stream",
     "text": [
      "2\n",
      "1\n",
      "4\n",
      "1\n"
     ]
    }
   ],
   "source": [
    "# si ponemos -, le estamos pidiendo que empieze a contar desde el final\n",
    "\n",
    "print (tuple_1[1])\n",
    "print (tuple_1 [0])\n",
    "print (tuple_1[-1])\n",
    "print (tuple_1[-0])"
   ]
  },
  {
   "cell_type": "code",
   "execution_count": 13,
   "id": "65cf1bd6",
   "metadata": {},
   "outputs": [],
   "source": [
    "#puedo cambiar entre los distintos tipos de secuencias\n",
    "\n",
    "tuple_2=tuple(list_1)\n",
    "list_2=list(tuple_1)"
   ]
  },
  {
   "cell_type": "code",
   "execution_count": 14,
   "id": "d972e953",
   "metadata": {},
   "outputs": [
    {
     "data": {
      "text/plain": [
       "8"
      ]
     },
     "execution_count": 14,
     "metadata": {},
     "output_type": "execute_result"
    }
   ],
   "source": [
    "list_2[2]=8\n",
    "list_2[2]"
   ]
  },
  {
   "cell_type": "code",
   "execution_count": 15,
   "id": "103e7c5f",
   "metadata": {},
   "outputs": [
    {
     "name": "stdout",
     "output_type": "stream",
     "text": [
      "esto es una cadena\n"
     ]
    }
   ],
   "source": [
    "print (str_1)"
   ]
  },
  {
   "cell_type": "code",
   "execution_count": 19,
   "id": "6f926fde",
   "metadata": {},
   "outputs": [
    {
     "name": "stdout",
     "output_type": "stream",
     "text": [
      "['e', 's', 't', 'o', ' ', 'e', 's', ' ', 'u', 'n', 'a', ' ', 'c', 'a', 'd', 'e', 'n', 'a']\n"
     ]
    }
   ],
   "source": [
    "list_3=list(str_1)\n",
    "print (list_3)"
   ]
  },
  {
   "cell_type": "code",
   "execution_count": 18,
   "id": "1b4aa05c",
   "metadata": {},
   "outputs": [
    {
     "name": "stdout",
     "output_type": "stream",
     "text": [
      "('e', 's', 't', 'o', ' ', 'e', 's', ' ', 'u', 'n', 'a', ' ', 'c', 'a', 'd', 'e', 'n', 'a')\n"
     ]
    }
   ],
   "source": [
    "tuple_3=tuple(str_1)\n",
    "print (tuple_3)"
   ]
  },
  {
   "cell_type": "code",
   "execution_count": 24,
   "id": "283e8a6e",
   "metadata": {},
   "outputs": [
    {
     "data": {
      "text/plain": [
       "([4, 5, 6], 'joder')"
      ]
     },
     "execution_count": 24,
     "metadata": {},
     "output_type": "execute_result"
    }
   ],
   "source": [
    "#dentro de cada secuencia (da igual el tipo), podemos tener varias varias tuplas, listas, o str\n",
    "\n",
    "tuple_1=(1,2,[4,5,6],\"joder\", 9,10, \"soy genial\")\n",
    "\n",
    "tuple_1[2], tuple_1[3]"
   ]
  },
  {
   "cell_type": "code",
   "execution_count": null,
   "id": "a40254cf",
   "metadata": {},
   "outputs": [],
   "source": [
    "# con + podemos unir distintas secuencias"
   ]
  },
  {
   "cell_type": "code",
   "execution_count": 28,
   "id": "4dce968a",
   "metadata": {},
   "outputs": [
    {
     "name": "stdout",
     "output_type": "stream",
     "text": [
      "(1, 2, 3, 4, 5, 6, 7, 8)\n",
      "[1, 2, 3, 4, 5, 6, 7, 8]\n",
      "buenos dias, me llamoCarlos Vila, y vivo en barcelona\n"
     ]
    }
   ],
   "source": [
    "tuple_1= (1,2,3,4)\n",
    "list_1=[1,2,3,4]\n",
    "str_1= \"buenos dias, me llamo\"\n",
    "\n",
    "tuple_2= (5,6,7,8)\n",
    "list_2=[5,6,7,8]\n",
    "str_2= \"Carlos Vila, y vivo en barcelona\"\n",
    "\n",
    "tuple_3= tuple_1 +tuple_2\n",
    "list_3= list_1+ list_2\n",
    "str_3= str_1+str_2\n",
    "\n",
    "print (tuple_3)\n",
    "print (list_3)\n",
    "print (str_3)"
   ]
  },
  {
   "cell_type": "code",
   "execution_count": 29,
   "id": "d6a3f3dd",
   "metadata": {},
   "outputs": [
    {
     "name": "stdout",
     "output_type": "stream",
     "text": [
      "(1, 2, 3, 4, 1, 2, 3, 4, 1, 2, 3, 4, 1, 2, 3, 4)\n"
     ]
    }
   ],
   "source": [
    "# si lo quiero multiplicar, me lo repite n veces\n",
    "\n",
    "tuple_4= tuple_1*4\n",
    "print (tuple_4)"
   ]
  },
  {
   "cell_type": "code",
   "execution_count": 30,
   "id": "c1284676",
   "metadata": {},
   "outputs": [
    {
     "name": "stdout",
     "output_type": "stream",
     "text": [
      "buenos dias, me llamoCarlos Vila, y vivo en barcelonabuenos dias, me llamoCarlos Vila, y vivo en barcelonabuenos dias, me llamoCarlos Vila, y vivo en barcelona\n"
     ]
    }
   ],
   "source": [
    "str_4= str_3*3\n",
    "print (str_4)"
   ]
  },
  {
   "cell_type": "code",
   "execution_count": 27,
   "id": "f6fe0327",
   "metadata": {},
   "outputs": [
    {
     "ename": "TypeError",
     "evalue": "can only concatenate tuple (not \"list\") to tuple",
     "output_type": "error",
     "traceback": [
      "\u001b[1;31m---------------------------------------------------------------------------\u001b[0m",
      "\u001b[1;31mTypeError\u001b[0m                                 Traceback (most recent call last)",
      "Input \u001b[1;32mIn [27]\u001b[0m, in \u001b[0;36m<cell line: 1>\u001b[1;34m()\u001b[0m\n\u001b[1;32m----> 1\u001b[0m comb1\u001b[38;5;241m=\u001b[39m \u001b[43mtuple_1\u001b[49m\u001b[38;5;241;43m+\u001b[39;49m\u001b[43m \u001b[49m\u001b[43mlist_2\u001b[49m\n\u001b[0;32m      2\u001b[0m comb2\u001b[38;5;241m=\u001b[39m list_2\u001b[38;5;241m+\u001b[39m str_3\n\u001b[0;32m      3\u001b[0m comb3\u001b[38;5;241m=\u001b[39m tuple_1\u001b[38;5;241m+\u001b[39m list_2\u001b[38;5;241m+\u001b[39m str_3\n",
      "\u001b[1;31mTypeError\u001b[0m: can only concatenate tuple (not \"list\") to tuple"
     ]
    }
   ],
   "source": [
    "# para hacer esta sume deben ser del mismo tipo\n",
    "\n",
    "comb1= tuple_1+ list_2\n",
    "comb2= list_2+ str_3\n",
    "comb3= tuple_1+ list_2+ str_3\n",
    "\n",
    "print(comb1)\n",
    "print (comb2)\n",
    "print (comb3)"
   ]
  },
  {
   "cell_type": "code",
   "execution_count": 32,
   "id": "a4fa7bec",
   "metadata": {},
   "outputs": [
    {
     "name": "stdout",
     "output_type": "stream",
     "text": [
      "False\n",
      "True\n",
      "False\n",
      "True\n"
     ]
    }
   ],
   "source": [
    "# podemos comprobar si un elemento esta en la secuencia que queremos\n",
    "\n",
    "print (6 in tuple_1)\n",
    "print (3 in tuple_3)\n",
    "print (\"b\" not in str_1) #las letras siempre entre comillas\n",
    "print (\"b\" in str_1)"
   ]
  },
  {
   "cell_type": "code",
   "execution_count": 46,
   "id": "03962841",
   "metadata": {},
   "outputs": [
    {
     "name": "stdout",
     "output_type": "stream",
     "text": [
      "[2, 4, 6, 8, 'a', 'd']\n",
      "[1, 2, 3, 4, 5, 6, 7, 8]\n",
      "[5, 8, 's', 'palabra']\n",
      "[3, 4, 5, 6, 7, 8, 9, 'a']\n"
     ]
    }
   ],
   "source": [
    "# a parte de valores individuales, podemos coger tramos en distintas frecuencias, mediante un esquema (a,b,c), donde\n",
    "\n",
    "# a: la primera posición que coje (si no digo nada coge el primero)\n",
    "# b: la ultima posición que coge (si no digo nada se va al ultimo)\n",
    "# c: la frecuencia, de 1 en 1, de 2 en 2, etc (si no pongo nada ira de 1 en 1)\n",
    "\n",
    "\n",
    "list_5=[1,2,3,4,5,6,7,8,9,\"a\",\"s\",\"d\",\"fg\",\"palabra\"]\n",
    "\n",
    "print (list_5[1:12:2])\n",
    "print (list_5[:8:1]) #si en la posición \"a\" no pongo nada empieza desde el principio\n",
    "print (list_5[4::3]) #si en la posición \"b\" no pongo nada  acaba en el final\n",
    "print (list_5[2:10:]) #si en la posición \"c\" no pongo nada, va de 1 en 1"
   ]
  },
  {
   "cell_type": "code",
   "execution_count": 3,
   "id": "46728721",
   "metadata": {},
   "outputs": [
    {
     "name": "stdout",
     "output_type": "stream",
     "text": [
      "feliz cumplaños: lucia\n",
      "feliz cumplaños: dani\n",
      "feliz cumplaños: olga\n",
      "feliz cumplaños: sergio\n"
     ]
    }
   ],
   "source": [
    "amigos=[\"lucia\", \"dani\", \"olga\", \"sergio\"]\n",
    "\n",
    "for i in amigos:\n",
    "    print (\"feliz cumplaños:\", i)"
   ]
  },
  {
   "cell_type": "code",
   "execution_count": 7,
   "id": "64aedb89",
   "metadata": {},
   "outputs": [
    {
     "name": "stdout",
     "output_type": "stream",
     "text": [
      "marca un numero:7\n",
      "marca un numero:9\n",
      "marca un numero:8\n",
      "marca un numero:7\n",
      "marca un numero:9\n",
      "el valor medio es: 8.0\n"
     ]
    }
   ],
   "source": [
    "cuenta=0\n",
    "total=0\n",
    "while True:\n",
    "    valor=input (\"marca un numero:\")\n",
    "    if valor==\"final\":\n",
    "        break\n",
    "    valor=int(valor)\n",
    "    total=total+valor\n",
    "    cuenta=cuenta+1\n",
    "    if cuenta==5:\n",
    "        break\n",
    "    \n",
    "\n",
    "print (\"el valor medio es:\", total/cuenta)"
   ]
  },
  {
   "cell_type": "code",
   "execution_count": 8,
   "id": "7b677d38",
   "metadata": {},
   "outputs": [
    {
     "name": "stdout",
     "output_type": "stream",
     "text": [
      "['Buenos', 'dias', 'mi', 'nombre', 'es', 'carlos']\n"
     ]
    }
   ],
   "source": [
    "#podemos pasar una cadena a una lista con split\n",
    "\n",
    "cadena=\"Buenos dias mi nombre es carlos\"\n",
    "\n",
    "lista=cadena.split()\n",
    "\n",
    "print (lista)"
   ]
  },
  {
   "cell_type": "code",
   "execution_count": null,
   "id": "a2a463e2",
   "metadata": {},
   "outputs": [],
   "source": [
    "fname = input(\"Enter file name: \")\n",
    "fh = open(fname)\n",
    "lst = list()\n",
    "for line in fh:\n",
    "    line=line.rstrip()\n",
    "    line=line.split()\n",
    "    lst=lst+line\n",
    "    \n",
    "lst.sort()\n",
    "lista=list()\n",
    "for i in lst:\n",
    "    if not i in lista:\n",
    "        lista.append(i)\n",
    "        \n",
    "print (lista)\n"
   ]
  },
  {
   "cell_type": "code",
   "execution_count": null,
   "id": "ccfafec6",
   "metadata": {},
   "outputs": [],
   "source": [
    "fname = input(\"Enter file name: \")\n",
    "fh = open(fname)\n",
    "lst = list()\n",
    "for line in fh:\n",
    "    line=line.rstrip()\n",
    "    line=line.split()\n",
    "    for i in line:\n",
    "        if not i in lst:\n",
    "            lst.append(i)\n",
    "\n",
    "lst.sort()\n",
    "       \n",
    "print (lst)\n"
   ]
  },
  {
   "cell_type": "code",
   "execution_count": null,
   "id": "91b6bdea",
   "metadata": {},
   "outputs": [],
   "source": [
    "fname = input(\"Enter file name: \")\n",
    "if len(fname) < 1:\n",
    "    fname = \"mbox-short.txt\"\n",
    "\n",
    "fh = open(fname)\n",
    "count = 0\n",
    "lista=list()\n",
    "for line in fh:\n",
    "    if not line.startswith (\"From\"):\n",
    "            continue\n",
    "    if line.startwith(\"From:\"):\n",
    "        continue\n",
    "    lista=line.split()\n",
    "    lista=lista[1]\n",
    "    print (lista)\n",
    "    for i in listrint (count)\n",
    "\n",
    "print (list)\n",
    "     \n",
    "\n",
    "print(\"There were\", count, \"lines in the file with From as the first word\")\n"
   ]
  },
  {
   "cell_type": "code",
   "execution_count": null,
   "id": "65da897c",
   "metadata": {},
   "outputs": [],
   "source": [
    "count = 0\n",
    "fname = input(\"Enter file name: \")\n",
    "fh = open(fname)\n",
    "lista=list()\n",
    "for line in fh:\n",
    "    if line.startswith (\"From\"):\n",
    "        if line.startswith (\"From: \"):\n",
    "            continue\n",
    "        else:\n",
    "            count=count+1\n",
    "            lista=line.split()\n",
    "            print (lista[1])\n",
    "print(\"There were\", count, \"lines in the file with From as the first word\")"
   ]
  },
  {
   "cell_type": "code",
   "execution_count": 14,
   "id": "189bf1b3",
   "metadata": {},
   "outputs": [
    {
     "name": "stdout",
     "output_type": "stream",
     "text": [
      "['buenos;dias;me;llamoa;carlos']\n"
     ]
    }
   ],
   "source": [
    "cadena=\"buenos;dias;me;llamoa;carlos\"#si esta unido por ;, no detecta el espacioy te hace una unica lista\n",
    "lista=cadena.split()\n",
    "print (lista)"
   ]
  },
  {
   "cell_type": "code",
   "execution_count": 15,
   "id": "d5305299",
   "metadata": {},
   "outputs": [
    {
     "name": "stdout",
     "output_type": "stream",
     "text": [
      "['buenos', 'dias', 'me', 'llamoa', 'carlos']\n"
     ]
    }
   ],
   "source": [
    "lista=cadena.split(\";\")#Si lo indicamos de esta forma, lo separara cada vez que encuentre el caracter ;\n",
    "print (lista)"
   ]
  },
  {
   "cell_type": "code",
   "execution_count": null,
   "id": "61613422",
   "metadata": {},
   "outputs": [],
   "source": [
    "fname = input(\"Enter file name: \")\n",
    "fh = open(fname)\n",
    "lst = list()\n",
    "for line in fh:\n",
    "print(line.rstrip())"
   ]
  },
  {
   "cell_type": "code",
   "execution_count": 53,
   "id": "cc4cfac7",
   "metadata": {},
   "outputs": [
    {
     "name": "stdout",
     "output_type": "stream",
     "text": [
      "buenos días vivo en barcelona\n",
      "ona\n",
      "beo ísvv nbreoa\n"
     ]
    }
   ],
   "source": [
    "str_5 =\"buenos días vivo en barcelona\"\n",
    "\n",
    "print (str_5[0::])\n",
    "print (str_5[-3::1])\n",
    "print (str_5[::2])"
   ]
  },
  {
   "cell_type": "code",
   "execution_count": 55,
   "id": "939b9ef6",
   "metadata": {},
   "outputs": [
    {
     "name": "stdout",
     "output_type": "stream",
     "text": [
      "['palabra', 'fg', 'd', 's', 'a', 9, 8, 7, 6, 5, 4, 3, 2, 1]\n",
      "['palabra', 'd', 'a', 8, 6, 4, 2]\n"
     ]
    }
   ],
   "source": [
    "print (list_5[::-1])# si en la C ponemos un numero negativo, nos da los balores al reves\n",
    "print (list_5 [::-2])"
   ]
  },
  {
   "cell_type": "code",
   "execution_count": 58,
   "id": "983f9ee2",
   "metadata": {},
   "outputs": [
    {
     "name": "stdout",
     "output_type": "stream",
     "text": [
      "[1, 2, 3, 4, 5, 6, 7, 8, 9, 'a', 's', 'd', 'fg', 'palabra']\n",
      "[1, 2, 3, 4, 5, 6, 7, 8, 9]\n"
     ]
    }
   ],
   "source": [
    "list_6=list_5[:9:]\n",
    "print (list_5)\n",
    "print (list_6)"
   ]
  },
  {
   "cell_type": "code",
   "execution_count": 60,
   "id": "2ce069a1",
   "metadata": {},
   "outputs": [
    {
     "name": "stdout",
     "output_type": "stream",
     "text": [
      "14\n",
      "29\n"
     ]
    }
   ],
   "source": [
    "#para conocer lalongitud de la secuencia, usamos la función \"len\"\n",
    "print (len(list_5))\n",
    "print (len(str_5))"
   ]
  },
  {
   "cell_type": "code",
   "execution_count": 62,
   "id": "2673f104",
   "metadata": {},
   "outputs": [
    {
     "name": "stdout",
     "output_type": "stream",
     "text": [
      "3\n",
      "8\n"
     ]
    }
   ],
   "source": [
    "#para conocer la posición en laque se encuentra un elemento, usamos la función \"index\", si no tiene el elemnto dara error\n",
    "\n",
    "print (list_5.index(4))\n",
    "print (list_6.index(9))"
   ]
  },
  {
   "cell_type": "code",
   "execution_count": 63,
   "id": "0ef85a69",
   "metadata": {},
   "outputs": [
    {
     "ename": "ValueError",
     "evalue": "18 is not in list",
     "output_type": "error",
     "traceback": [
      "\u001b[1;31m---------------------------------------------------------------------------\u001b[0m",
      "\u001b[1;31mValueError\u001b[0m                                Traceback (most recent call last)",
      "Input \u001b[1;32mIn [63]\u001b[0m, in \u001b[0;36m<cell line: 1>\u001b[1;34m()\u001b[0m\n\u001b[1;32m----> 1\u001b[0m \u001b[38;5;28mprint\u001b[39m (\u001b[43mlist_5\u001b[49m\u001b[38;5;241;43m.\u001b[39;49m\u001b[43mindex\u001b[49m\u001b[43m(\u001b[49m\u001b[38;5;241;43m18\u001b[39;49m\u001b[43m)\u001b[49m)\n",
      "\u001b[1;31mValueError\u001b[0m: 18 is not in list"
     ]
    }
   ],
   "source": [
    "print (list_5.index(18))"
   ]
  },
  {
   "cell_type": "code",
   "execution_count": 65,
   "id": "e5bd65ff",
   "metadata": {},
   "outputs": [
    {
     "name": "stdout",
     "output_type": "stream",
     "text": [
      "5\n",
      "1\n",
      "3\n"
     ]
    }
   ],
   "source": [
    "# para saber el numero de veces que aparece un elemento, usamos función \"count\"\n",
    "\n",
    "lista_1= 1,1,1,1,2,3,4,5,5,5,6,7,7,8,1\n",
    "\n",
    "print (lista_1.count(1))\n",
    "print (lista_1.count(3))\n",
    "print (lista_1.count(5))"
   ]
  },
  {
   "cell_type": "code",
   "execution_count": 70,
   "id": "a5a1a27d",
   "metadata": {},
   "outputs": [
    {
     "name": "stdout",
     "output_type": "stream",
     "text": [
      "carlos\n",
      "lucia\n",
      "pol\n",
      "laura\n"
     ]
    }
   ],
   "source": [
    "#podemos darle un nombre a cada variable de la lista\n",
    "\n",
    "lista_2= \"carlos\",\"lucia\", \"pol\", \"laura\"\n",
    "\n",
    "var_1, var_2, var_3, var_4 = lista_2\n",
    "\n",
    "print (var_1)\n",
    "print (var_2)\n",
    "print (var_3)\n",
    "print (var_4)"
   ]
  },
  {
   "cell_type": "code",
   "execution_count": 72,
   "id": "0684ce9e",
   "metadata": {},
   "outputs": [
    {
     "name": "stdout",
     "output_type": "stream",
     "text": [
      "[('carlos', 'V'), ('lucia', 'S'), ('pol', 'G'), ('laura', 'M')]\n"
     ]
    }
   ],
   "source": [
    "#podemos unir 2 listas elemento a elemento con la función \"zip\"; para print, poner la función \"list\"\n",
    "\n",
    "lista_1= \"V\", \"S\", \"G\", \"M\"\n",
    "\n",
    "nombre_apellido= zip(lista_2,lista_1)\n",
    "\n",
    "print (list(nombre_apellido))"
   ]
  },
  {
   "cell_type": "code",
   "execution_count": 75,
   "id": "03b5ea44",
   "metadata": {},
   "outputs": [
    {
     "name": "stdout",
     "output_type": "stream",
     "text": [
      "[(1, 'uno'), (2, 'dos'), (3, 'tres')]\n"
     ]
    }
   ],
   "source": [
    "lista1= 1,2,3\n",
    "lista2= \"uno\", \"dos\", \"tres\"\n",
    "\n",
    "lista_1_2= (zip(lista1,lista2))\n",
    "\n",
    "print (list(lista_1_2))"
   ]
  },
  {
   "cell_type": "code",
   "execution_count": 78,
   "id": "2a20de14",
   "metadata": {},
   "outputs": [
    {
     "name": "stdout",
     "output_type": "stream",
     "text": [
      "range(0, 10)\n"
     ]
    }
   ],
   "source": [
    "#para crear listas de distinto tamaño, usamos la función \"range\"\n",
    "\n",
    "lista_1=(range(10))\n",
    "\n",
    "print (lista_1)"
   ]
  },
  {
   "cell_type": "code",
   "execution_count": 80,
   "id": "9f5e191c",
   "metadata": {},
   "outputs": [
    {
     "name": "stdout",
     "output_type": "stream",
     "text": [
      "[0, 1, 2, 3, 4, 5, 6, 7, 8, 9]\n"
     ]
    }
   ],
   "source": [
    "lista_1= (list(lista_1))\n",
    "\n",
    "print (lista_1)"
   ]
  },
  {
   "cell_type": "code",
   "execution_count": 83,
   "id": "64ed85cc",
   "metadata": {},
   "outputs": [
    {
     "name": "stdout",
     "output_type": "stream",
     "text": [
      "[5, 7, 9, 11, 13, 15, 17, 19]\n"
     ]
    }
   ],
   "source": [
    "lista_2 =range (5,20,2)\n",
    "lista_2= (list (lista_2))\n",
    "print (lista_2)"
   ]
  },
  {
   "cell_type": "code",
   "execution_count": 84,
   "id": "d05cc1a3",
   "metadata": {},
   "outputs": [
    {
     "name": "stdout",
     "output_type": "stream",
     "text": [
      "<class 'list'>\n"
     ]
    }
   ],
   "source": [
    "print (type(lista_1))"
   ]
  },
  {
   "cell_type": "code",
   "execution_count": 93,
   "id": "c4e2e7eb",
   "metadata": {},
   "outputs": [
    {
     "name": "stdout",
     "output_type": "stream",
     "text": [
      "<class 'list'>\n"
     ]
    }
   ],
   "source": [
    "lista_1=(list(lista_1))\n",
    "print (type(lista_1))"
   ]
  },
  {
   "cell_type": "code",
   "execution_count": 6,
   "id": "9bef299b",
   "metadata": {},
   "outputs": [
    {
     "name": "stdout",
     "output_type": "stream",
     "text": [
      "[1, 2, 3, 4, 'carlos', 'perro', 7, 'leon', 'culo']\n"
     ]
    }
   ],
   "source": [
    "#con las funciones \"append\" (al final) y \"insert\" (idicandole la posición), podemos añadir elementos a las listas (mutables) \n",
    "#En los tuple y str dara error\n",
    "\n",
    "lista_1=[1,2,3,4,\"perro\", 7, \"leon\"]\n",
    "lista_1.append(\"culo\")\n",
    "lista_1.insert(4, \"carlos\")\n",
    "print (lista_1)"
   ]
  },
  {
   "cell_type": "code",
   "execution_count": 7,
   "id": "f7801e26",
   "metadata": {},
   "outputs": [],
   "source": [
    "lista_1.append(55)"
   ]
  },
  {
   "cell_type": "code",
   "execution_count": 12,
   "id": "80df8626",
   "metadata": {},
   "outputs": [
    {
     "name": "stdout",
     "output_type": "stream",
     "text": [
      "[1, 2, '23', '23', '2', '2', 3, 4, 'carlos', 'perro', 7, 'leon', 'culo', 55]\n"
     ]
    }
   ],
   "source": [
    "lista_1.insert(3,\"23\")\n",
    "\n",
    "print (lista_1)"
   ]
  },
  {
   "cell_type": "code",
   "execution_count": 17,
   "id": "ac9ff29b",
   "metadata": {},
   "outputs": [],
   "source": [
    "lista_2= [1,2,3,4,5,6,7,8]"
   ]
  },
  {
   "cell_type": "code",
   "execution_count": 19,
   "id": "e9bbdd75",
   "metadata": {},
   "outputs": [
    {
     "name": "stdout",
     "output_type": "stream",
     "text": [
      "[1, 2, 3, 4, 5, 6, 7, 8, 9, 9]\n"
     ]
    }
   ],
   "source": [
    "lista_2.append (9)\n",
    "print (lista_2)"
   ]
  },
  {
   "cell_type": "code",
   "execution_count": 9,
   "id": "ab241b13",
   "metadata": {},
   "outputs": [
    {
     "name": "stdout",
     "output_type": "stream",
     "text": [
      "[0, 1, 2, 3, 4, 5, 6, 7, 8, 9, 10, 11, 12, 13, 14, 15, 16, 17, 18, 19]\n"
     ]
    }
   ],
   "source": [
    "lista_1= range(20)\n",
    "lista_1= (list(lista_1))\n",
    "print (lista_1)"
   ]
  },
  {
   "cell_type": "code",
   "execution_count": 16,
   "id": "b72e63cd",
   "metadata": {},
   "outputs": [
    {
     "name": "stdout",
     "output_type": "stream",
     "text": [
      "[0, 1, 4, 7, 6, 11, 12, 13, 14, 15, 16, 17, 18, 19]\n"
     ]
    }
   ],
   "source": [
    "lista_1 [2:10]=(4,7,6)\n",
    "print (lista_1)"
   ]
  },
  {
   "cell_type": "code",
   "execution_count": 20,
   "id": "06b85144",
   "metadata": {},
   "outputs": [
    {
     "name": "stdout",
     "output_type": "stream",
     "text": [
      "['uno', 'dos', 'cuatro']\n"
     ]
    }
   ],
   "source": [
    "lista_1= [\"uno\", \"dos\", \"cuatro\"]\n",
    "print (lista_1)"
   ]
  },
  {
   "cell_type": "code",
   "execution_count": 29,
   "id": "8eaf126f",
   "metadata": {},
   "outputs": [
    {
     "name": "stdout",
     "output_type": "stream",
     "text": [
      "['uno', 'dos', 5, 'tres', 'tres', 'tres', 'tres', 'cuatro', 'cinco', 'cinco', 'cinco', 'cinco', 'cinco', 'cinco', 'cinco', 'cinco', 'cinco']\n"
     ]
    }
   ],
   "source": [
    "lista_1.append (\"cinco\")\n",
    "lista_1.insert(2,5)\n",
    "print (lista_1)"
   ]
  },
  {
   "cell_type": "code",
   "execution_count": 34,
   "id": "f41f47ca",
   "metadata": {},
   "outputs": [
    {
     "name": "stdout",
     "output_type": "stream",
     "text": [
      "[1, 2, 'carlos', 'lucia', 4, 5]\n"
     ]
    }
   ],
   "source": [
    "#podemos modificar un tramo dentro de la lista, indicando sus posiciones [n:m]= x,y,z \"nuevos elementos que queramos sustituir\n",
    "#si el numero de posiciones es mayor que el de sustitutos, se eliminara el resto\n",
    "\n",
    "lista1= [1,2,3,4,5]\n",
    "lista1[2:3]=(\"carlos\", \"lucia\")\n",
    "print(lista1)"
   ]
  },
  {
   "cell_type": "code",
   "execution_count": 36,
   "id": "2253b2be",
   "metadata": {},
   "outputs": [
    {
     "name": "stdout",
     "output_type": "stream",
     "text": [
      "lucia\n",
      "[1, 2, 4, 5]\n"
     ]
    }
   ],
   "source": [
    "# con pop, nos muestra el valor elegido y despues lo elimina de la lista\n",
    "print (lista1.pop (2))\n",
    "print (lista1)"
   ]
  },
  {
   "cell_type": "code",
   "execution_count": 42,
   "id": "81b9b23d",
   "metadata": {},
   "outputs": [
    {
     "name": "stdout",
     "output_type": "stream",
     "text": [
      "[1, 2, 3, 4, 5, 6, 7]\n"
     ]
    }
   ],
   "source": [
    "lista_1= [1,2,4,5,6,5,7]\n",
    "lista_1.insert (2,3)\n",
    "print (lista_1)"
   ]
  },
  {
   "cell_type": "code",
   "execution_count": 48,
   "id": "d694076d",
   "metadata": {},
   "outputs": [
    {
     "name": "stdout",
     "output_type": "stream",
     "text": [
      "[1, 2, 'carlos', 3, 4, 'lucia', 'lucia', 7]\n",
      "[1, 2, 3, 4, 'lucia', 7]\n"
     ]
    }
   ],
   "source": [
    "#podemos borrar valores de una lista con las funciones .remove (elimina el valor que le indique) o  función del\n",
    "lista_1.insert (2, \"carlos\")\n",
    "lista_1.insert (5, \"lucia\")\n",
    "print (lista_1)\n",
    "lista_1.remove (\"carlos\")\n",
    "del lista_1 [4]\n",
    "print (lista_1)"
   ]
  },
  {
   "cell_type": "code",
   "execution_count": 52,
   "id": "dc143011",
   "metadata": {},
   "outputs": [
    {
     "name": "stdout",
     "output_type": "stream",
     "text": [
      "[1, 2, 3, 4, 4, 5, 7, 9, 23, 33, 45]\n",
      "[1, 2, 3, 4, 4, 5, 7, 9, 23, 33, 45]\n",
      "[45, 33, 23, 9, 7, 5, 4, 4, 3, 2, 1]\n"
     ]
    }
   ],
   "source": [
    "#podemos pedir que nos ordene una lista de valores con sort. puede ser del derecho (.sort () o .sort (reverse=false)) o \n",
    "# del rever (.sort(reverse=true))\n",
    "\n",
    "lista_1=[4,5,1,4,7,2,3,33,45,23,9]\n",
    "lista_1.sort()\n",
    "print (lista_1)\n",
    "lista_1.sort(reverse=False)\n",
    "print (lista_1)\n",
    "lista_1.sort (reverse=True)\n",
    "print(lista_1)\n"
   ]
  },
  {
   "cell_type": "code",
   "execution_count": 57,
   "id": "4c4162b3",
   "metadata": {},
   "outputs": [
    {
     "name": "stdout",
     "output_type": "stream",
     "text": [
      "[1, 2, 3, 3, 3, 3, 3, 4, 4, 4, 4, 4, 4, 5, 5, 5, 5, 5, 6, 6, 6, 6, 7, 7, 7, 7, 7, 8, 8, 8, 8, 9, 23, 33, 45, 3, 4, 5, 6, 7, 8]\n",
      "[1, 2, 3, 3, 3, 3, 3, 3, 4, 4, 4, 4, 4, 4, 4, 5, 5, 5, 5, 5, 5, 6, 6, 6, 6, 6, 7, 7, 7, 7, 7, 7, 8, 8, 8, 8, 8, 9, 23, 33, 45]\n"
     ]
    }
   ],
   "source": [
    "#la funcion extend seria similar a sumar, pero en este caso no tenemos que crear una nueva lista\n",
    "lista_2=3,4,5,6,7,8\n",
    "\n",
    "lista_1.extend (lista_2)\n",
    "\n",
    "print (lista_1)\n",
    "lista_1.sort()\n",
    "print (lista_1)"
   ]
  },
  {
   "cell_type": "code",
   "execution_count": 69,
   "id": "f1b64463",
   "metadata": {},
   "outputs": [
    {
     "name": "stdout",
     "output_type": "stream",
     "text": [
      "HOLA ME LLAMO CARLOS\n",
      "y vivo en barcelona, barcelona\n"
     ]
    }
   ],
   "source": [
    "#en cadenas de texto, podemos usar la funcion .upper o .lower para pasar de mayusculas a minusculas\n",
    "\n",
    "cadena1=\"Hola me llamo Carlos\"\n",
    "\n",
    "print (cadena1.upper())\n",
    "\n",
    "cadena2= \"Y VIVO EN Barcelona, Barcelona\"\n",
    "\n",
    "print (cadena2.lower())"
   ]
  },
  {
   "cell_type": "code",
   "execution_count": 70,
   "id": "a0ce97ba",
   "metadata": {},
   "outputs": [
    {
     "name": "stdout",
     "output_type": "stream",
     "text": [
      "Hola me llamo Lucia\n",
      "Y VIVO EN Barbera, Barbera\n",
      "Y VIVO EN Barbera, Barcelona\n"
     ]
    }
   ],
   "source": [
    "#en cadena, podemos cambiar un elemento por con la función .replace ( \"palabra que quieres cambiar\", \"nueva palabra\"),\n",
    "#y lo hara todas las veces que lo encuentre. si solo queremos q pase una vez .replace (\"x\", \"y\", 1)\n",
    "\n",
    "print (cadena1.replace (\"Carlos\", \"Lucia\"))\n",
    "\n",
    "print (cadena2.replace(\"Barcelona\", \"Barbera\"))\n",
    "\n",
    "print (cadena2.replace(\"Barcelona\", \"Barbera\",1))\n",
    "\n"
   ]
  },
  {
   "cell_type": "markdown",
   "id": "b9c1e4ba",
   "metadata": {},
   "source": [
    "DICCIONARIOS"
   ]
  },
  {
   "cell_type": "code",
   "execution_count": 3,
   "id": "56ded938",
   "metadata": {},
   "outputs": [
    {
     "data": {
      "text/plain": [
       "{'nombre': 'carlos', 'edad': 30}"
      ]
     },
     "execution_count": 3,
     "metadata": {},
     "output_type": "execute_result"
    }
   ],
   "source": [
    "# los dicionarios en python permiten guardar listas de claves con valores. lo indicamos con{}\n",
    "\n",
    "mydic={\"nombre\":\"carlos\", \"edad\":30}\n",
    "mydic"
   ]
  },
  {
   "cell_type": "code",
   "execution_count": 1,
   "id": "cbca8534",
   "metadata": {},
   "outputs": [],
   "source": [
    "dicc=dict()"
   ]
  },
  {
   "cell_type": "code",
   "execution_count": 11,
   "id": "5e2635a2",
   "metadata": {},
   "outputs": [],
   "source": [
    "dicc[\"edad\"]= 30"
   ]
  },
  {
   "cell_type": "code",
   "execution_count": 12,
   "id": "e0d2efb7",
   "metadata": {},
   "outputs": [
    {
     "name": "stdout",
     "output_type": "stream",
     "text": [
      "{'nombre': 'lucia', ('nombre', 'apellido', 'edad'): ('carlos', 'vila', 30), 'edad': 30}\n"
     ]
    }
   ],
   "source": [
    "print (dicc)"
   ]
  },
  {
   "cell_type": "code",
   "execution_count": 15,
   "id": "f1f0062c",
   "metadata": {},
   "outputs": [],
   "source": [
    "dicc[\"edad\"]=dicc[\"edad\"]+5"
   ]
  },
  {
   "cell_type": "code",
   "execution_count": 16,
   "id": "48d425f8",
   "metadata": {},
   "outputs": [
    {
     "data": {
      "text/plain": [
       "{'nombre': 'lucia',\n",
       " ('nombre', 'apellido', 'edad'): ('carlos', 'vila', 30),\n",
       " 'edad': 35}"
      ]
     },
     "execution_count": 16,
     "metadata": {},
     "output_type": "execute_result"
    }
   ],
   "source": [
    "dicc"
   ]
  },
  {
   "cell_type": "code",
   "execution_count": 18,
   "id": "b401d522",
   "metadata": {},
   "outputs": [
    {
     "name": "stdout",
     "output_type": "stream",
     "text": [
      "{'carlos': 1, 'lucia': 3, 'pol': 3, 'laura': 4}\n"
     ]
    }
   ],
   "source": [
    "dicc=dict()\n",
    "nombre=(\"carlos\", \"lucia\", \"pol\", \"laura\",\"lucia\", \"pol\", \"laura\", \"laura\",\"lucia\", \"pol\", \"laura\")\n",
    "for i in nombre:\n",
    "    if i not in dicc:\n",
    "        dicc[i]=1\n",
    "    else:\n",
    "        dicc[i]=dicc[i]+1\n",
    "\n",
    "print (dicc)"
   ]
  },
  {
   "cell_type": "code",
   "execution_count": 38,
   "id": "f8b58076",
   "metadata": {},
   "outputs": [
    {
     "name": "stdout",
     "output_type": "stream",
     "text": [
      "{'carlos': 1, 'lucia': 3, 'pol': 3, 'laura': 4}\n"
     ]
    }
   ],
   "source": [
    "#podemos hacer la misma operación que antes pero mas rapida, con la función .get (substituye al if, else)\n",
    "dicc=dict()\n",
    "nombre=\"carlos\", \"lucia\", \"pol\", \"laura\",\"lucia\", \"pol\", \"laura\", \"laura\",\"lucia\", \"pol\", \"laura\"\n",
    "for i in nombre:\n",
    "    dicc[i]=dicc.get(i,0)+1#FORMULA IMPORTATNTE\n",
    "\n",
    "print (dicc)"
   ]
  },
  {
   "cell_type": "code",
   "execution_count": 44,
   "id": "0fa23b05",
   "metadata": {},
   "outputs": [],
   "source": [
    "mydic={\"nombre\": \"carlos\", \"apellido\": \"vila\", \"telf\":687232427}"
   ]
  },
  {
   "cell_type": "code",
   "execution_count": 40,
   "id": "04656192",
   "metadata": {},
   "outputs": [
    {
     "data": {
      "text/plain": [
       "{'nombre': 'carlos', 'apellido': 'vila', 'telf': 687232427}"
      ]
     },
     "execution_count": 40,
     "metadata": {},
     "output_type": "execute_result"
    }
   ],
   "source": [
    "mydic"
   ]
  },
  {
   "cell_type": "code",
   "execution_count": 41,
   "id": "544551fd",
   "metadata": {},
   "outputs": [],
   "source": [
    "mydic=(list(mydic))#si lo pasamos a una lista nos dara solo los valores de las keys"
   ]
  },
  {
   "cell_type": "code",
   "execution_count": 42,
   "id": "8b0d2a02",
   "metadata": {},
   "outputs": [
    {
     "data": {
      "text/plain": [
       "['nombre', 'apellido', 'telf']"
      ]
     },
     "execution_count": 42,
     "metadata": {},
     "output_type": "execute_result"
    }
   ],
   "source": [
    "mydic"
   ]
  },
  {
   "cell_type": "code",
   "execution_count": 45,
   "id": "2dc1235f",
   "metadata": {},
   "outputs": [
    {
     "name": "stdout",
     "output_type": "stream",
     "text": [
      "nombre carlos\n",
      "apellido vila\n",
      "telf 687232427\n"
     ]
    }
   ],
   "source": [
    "#PODEMOS USAR ESTA FUNCIÓN PARA QUE NOS DEVUELVA TODAS LAS PAREJAS DEL DICCIONARIO\n",
    "for k,v in mydic.items():#AL SER UN DICCIONARIO PODEMOS USAR 2 VARIABLES EN EL FOR (k,v)\n",
    "    print (k,v)"
   ]
  },
  {
   "cell_type": "code",
   "execution_count": 5,
   "id": "de0f35bf",
   "metadata": {},
   "outputs": [
    {
     "data": {
      "text/plain": [
       "dict_keys(['nombre', 'edad'])"
      ]
     },
     "execution_count": 5,
     "metadata": {},
     "output_type": "execute_result"
    }
   ],
   "source": [
    "mydic.keys()"
   ]
  },
  {
   "cell_type": "code",
   "execution_count": 6,
   "id": "d8cf05b4",
   "metadata": {},
   "outputs": [
    {
     "data": {
      "text/plain": [
       "dict_values(['carlos', 30])"
      ]
     },
     "execution_count": 6,
     "metadata": {},
     "output_type": "execute_result"
    }
   ],
   "source": [
    "mydic.values()"
   ]
  },
  {
   "cell_type": "code",
   "execution_count": 7,
   "id": "887e58ac",
   "metadata": {},
   "outputs": [
    {
     "data": {
      "text/plain": [
       "dict_items([('nombre', 'carlos'), ('edad', 30)])"
      ]
     },
     "execution_count": 7,
     "metadata": {},
     "output_type": "execute_result"
    }
   ],
   "source": [
    "mydic.items()"
   ]
  },
  {
   "cell_type": "code",
   "execution_count": 9,
   "id": "25ae85f5",
   "metadata": {},
   "outputs": [
    {
     "data": {
      "text/plain": [
       "{'nombre': 'carlos', 'edad': 30, 'peso': 82}"
      ]
     },
     "execution_count": 9,
     "metadata": {},
     "output_type": "execute_result"
    }
   ],
   "source": [
    "mydic [\"peso\"]=82\n",
    "mydic"
   ]
  },
  {
   "cell_type": "code",
   "execution_count": 10,
   "id": "81d8b380",
   "metadata": {},
   "outputs": [
    {
     "data": {
      "text/plain": [
       "{'nombre': 'carlos', 'edad': 30, 'peso': 78}"
      ]
     },
     "execution_count": 10,
     "metadata": {},
     "output_type": "execute_result"
    }
   ],
   "source": [
    "mydic.update({\"peso\":78})\n",
    "mydic"
   ]
  },
  {
   "cell_type": "code",
   "execution_count": 11,
   "id": "bf702279",
   "metadata": {},
   "outputs": [
    {
     "data": {
      "text/plain": [
       "{'nombre': 'carlos', 'edad': 30, 'peso': 78}"
      ]
     },
     "execution_count": 11,
     "metadata": {},
     "output_type": "execute_result"
    }
   ],
   "source": [
    "nuevo_dic=mydic.copy()\n",
    "nuevo_dic"
   ]
  },
  {
   "cell_type": "code",
   "execution_count": 16,
   "id": "dece0219",
   "metadata": {},
   "outputs": [
    {
     "data": {
      "text/plain": [
       "{'edad': 30, 'peso': 78}"
      ]
     },
     "execution_count": 16,
     "metadata": {},
     "output_type": "execute_result"
    }
   ],
   "source": [
    "\n",
    "nuevo_dic"
   ]
  },
  {
   "cell_type": "code",
   "execution_count": 24,
   "id": "60f87183",
   "metadata": {},
   "outputs": [
    {
     "ename": "AttributeError",
     "evalue": "'dict' object has no attribute 'clean'",
     "output_type": "error",
     "traceback": [
      "\u001b[1;31m---------------------------------------------------------------------------\u001b[0m",
      "\u001b[1;31mAttributeError\u001b[0m                            Traceback (most recent call last)",
      "Input \u001b[1;32mIn [24]\u001b[0m, in \u001b[0;36m<cell line: 1>\u001b[1;34m()\u001b[0m\n\u001b[1;32m----> 1\u001b[0m \u001b[43mmydic\u001b[49m\u001b[38;5;241;43m.\u001b[39;49m\u001b[43mclean\u001b[49m()\n\u001b[0;32m      2\u001b[0m nuevo_dic\n",
      "\u001b[1;31mAttributeError\u001b[0m: 'dict' object has no attribute 'clean'"
     ]
    }
   ],
   "source": [
    "mydic.clean()\n",
    "nuevo_dic"
   ]
  },
  {
   "cell_type": "code",
   "execution_count": null,
   "id": "0755a04b",
   "metadata": {},
   "outputs": [],
   "source": [
    "name = input(\"Enter file:\")\n",
    "name = \"mbox-short.txt\"\n",
    "handle = open(name)\n",
    "dic=dict()\n",
    "lista=list()\n",
    "\n",
    "for i in handle:\n",
    "    if i.startswith(\"From\"):\n",
    "        if i.startswith(\"From:\"):\n",
    "            continue\n",
    "    else:\n",
    "        palabra=i.split()\n",
    "        lista.append(palabra[1])\n",
    "        \n",
    "for palabra in lista:\n",
    "    dic[palabra]=dic.get(palabra,0)+1\n",
    "        \n",
    "email=None\n",
    "numero1=None\n",
    "\n",
    "for mail,numero in dic.items():\n",
    "    if email is None or numero > email:\n",
    "        \n",
    "        numero1=palabra\n",
    "        email=numero\n",
    "        \n",
    "print (numero1, email)"
   ]
  },
  {
   "cell_type": "code",
   "execution_count": null,
   "id": "b746be9e",
   "metadata": {},
   "outputs": [],
   "source": []
  },
  {
   "cell_type": "markdown",
   "id": "128e4de2",
   "metadata": {},
   "source": [
    "CONJUNTOS (SET)"
   ]
  },
  {
   "cell_type": "code",
   "execution_count": 73,
   "id": "e1cd5408",
   "metadata": {},
   "outputs": [
    {
     "name": "stdout",
     "output_type": "stream",
     "text": [
      "<class 'set'>\n",
      "{1, 2, 3, 4, 5, 6}\n"
     ]
    }
   ],
   "source": [
    "#Los conjuntos se colocan entre {cont+alt+A}, siendo solo valores irrepetibles\n",
    "\n",
    "conjunto1={1,2,3,4,5,6}\n",
    "print (type(conjunto1))\n",
    "\n",
    "print (conjunto1)\n",
    "\n"
   ]
  },
  {
   "cell_type": "code",
   "execution_count": 74,
   "id": "9b5772be",
   "metadata": {},
   "outputs": [
    {
     "data": {
      "text/plain": [
       "{1, 2, 3, 4, 5}"
      ]
     },
     "execution_count": 74,
     "metadata": {},
     "output_type": "execute_result"
    }
   ],
   "source": [
    "lista1=1,2,3,3,3,4,5\n",
    "set(lista1) #no puede tener elementos repetidos"
   ]
  },
  {
   "cell_type": "code",
   "execution_count": 76,
   "id": "7816cb70",
   "metadata": {},
   "outputs": [
    {
     "name": "stdout",
     "output_type": "stream",
     "text": [
      "{1, 2, 3, 4, 5, 6, 7, 8, 9}\n",
      "{5, 6}\n"
     ]
    }
   ],
   "source": [
    "#podemos unir dos conjuntos con | (cont+alt+1); tambien podemos pedirle los elementos que tienen en comun con &\n",
    "\n",
    "conj1={1,2,3,4,5,6}\n",
    "conj2={5,6,7,8,9}\n",
    "\n",
    "conj3=(conj1|conj2)\n",
    "print (conj3)\n",
    "\n",
    "print (conj1&conj2)"
   ]
  },
  {
   "cell_type": "code",
   "execution_count": 77,
   "id": "d97b2124",
   "metadata": {},
   "outputs": [
    {
     "name": "stdout",
     "output_type": "stream",
     "text": [
      "{1, 2, 3, 4}\n",
      "{8, 9, 7}\n",
      "{1, 2, 3, 4, 7, 8, 9}\n"
     ]
    }
   ],
   "source": [
    "#con algunos signos aritmeticos tambien podemos hacer operaciones\n",
    "# - para elementos que estan en el conjunto 1 pero no en el dos\n",
    "# ^ para elementos que no esten en comun\n",
    "\n",
    "print (conj1-conj2)\n",
    "print (conj2-conj1)\n",
    "print (conj1^conj2)\n"
   ]
  },
  {
   "cell_type": "code",
   "execution_count": 78,
   "id": "6a0aba1f",
   "metadata": {},
   "outputs": [
    {
     "data": {
      "text/plain": [
       "True"
      ]
     },
     "execution_count": 78,
     "metadata": {},
     "output_type": "execute_result"
    }
   ],
   "source": [
    "# podemos comprobar si un elemento esta en un conjunto\n",
    "\n",
    "3 in (conj1)"
   ]
  },
  {
   "cell_type": "code",
   "execution_count": 79,
   "id": "3b8fd293",
   "metadata": {},
   "outputs": [
    {
     "data": {
      "text/plain": [
       "True"
      ]
     },
     "execution_count": 79,
     "metadata": {},
     "output_type": "execute_result"
    }
   ],
   "source": [
    "#podemos comprovar si un conjunto esta dentro de otro con >= o <=\n",
    "conj3>=conj1\n"
   ]
  },
  {
   "cell_type": "code",
   "execution_count": 80,
   "id": "bd1f7c35",
   "metadata": {},
   "outputs": [
    {
     "data": {
      "text/plain": [
       "False"
      ]
     },
     "execution_count": 80,
     "metadata": {},
     "output_type": "execute_result"
    }
   ],
   "source": [
    "conj3<=conj2"
   ]
  },
  {
   "cell_type": "code",
   "execution_count": 84,
   "id": "79a6df4c",
   "metadata": {},
   "outputs": [
    {
     "name": "stdout",
     "output_type": "stream",
     "text": [
      "{2, 3, 4, 5, 6}\n",
      "{2, 3, 4, 6}\n"
     ]
    }
   ],
   "source": [
    "# podemos eliminar un elemento con .remove (si el elemento no esta dara error) o .discard\n",
    "\n",
    "conj1.discard(1)\n",
    "print (conj1)\n",
    "\n",
    "conj1.remove (5)\n",
    "print (conj1)"
   ]
  },
  {
   "cell_type": "code",
   "execution_count": 3,
   "id": "4758523a",
   "metadata": {},
   "outputs": [
    {
     "name": "stdout",
     "output_type": "stream",
     "text": [
      "carlos\n",
      "molares\n"
     ]
    }
   ],
   "source": [
    "nombre=\"carlos vila molares\".split()[0]\n",
    "segundo_apellido= \"carlos vila molares\".split()[-1]\n",
    "\n",
    "print (nombre)\n",
    "print(segundo_apellido)"
   ]
  },
  {
   "cell_type": "raw",
   "id": "b52b298e",
   "metadata": {},
   "source": []
  }
 ],
 "metadata": {
  "kernelspec": {
   "display_name": "Python 3 (ipykernel)",
   "language": "python",
   "name": "python3"
  },
  "language_info": {
   "codemirror_mode": {
    "name": "ipython",
    "version": 3
   },
   "file_extension": ".py",
   "mimetype": "text/x-python",
   "name": "python",
   "nbconvert_exporter": "python",
   "pygments_lexer": "ipython3",
   "version": "3.9.12"
  }
 },
 "nbformat": 4,
 "nbformat_minor": 5
}
